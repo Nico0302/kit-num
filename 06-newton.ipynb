{
 "cells": [
  {
   "cell_type": "markdown",
   "id": "c1b131a2",
   "metadata": {},
   "source": [
    "# Iterationsverfahren für nichtlineare Gleichungen\n",
    "\n",
    "## Newton-Verfahren\n",
    "\n",
    "0. Wähle den Startwert $x^0 \\in D$ und die Fehlertoleranz $\\varepsilon$. Setze $k := 0$.\n",
    "1. Falls $|F(x^k)| < \\varepsilon$: STOP.\n",
    "2. Berechne die Newton-Korrektur $d^k$: Löse\n",
    "    $$\n",
    "    F'(x^k) \\cdot d^k = -F(x^k)\n",
    "    $$\n",
    "3. Setze <br />\n",
    "    $$\n",
    "    x^{k+1} = x^k + d^k\n",
    "    $$ <br />\n",
    "    und $k := k + 1$. Gehe dann zu S1).\n",
    "\n",
    "::: {.callout-tip}\n",
    "\n",
    "### (6.2) Satz\n",
    "\n",
    "Sei $D \\subset \\mathbb{R}^N$ offen, $F \\in C^1(D, \\mathbb{R}^N)$ und $x^* \\in D$ mit $F(x^*) = 0_N$.\n",
    "Falls ein $B \\in \\mathbb{R}^{N \\times N}$ mit\n",
    "$$\n",
    "\\rho(I - BF'(x^*)) < 1\n",
    "$$\n",
    "existiert, dann ist die Fixpunktiteration\n",
    "$$\n",
    "x^{k+1} = \\Phi(x^k)\n",
    "$$\n",
    "mit\n",
    "$$\n",
    "\\Phi(x) = x - BF(x)\n",
    "$$\n",
    "lokal linear konvergent, d. h. es existiert ein $\\delta > 0$, $C > 0$ und $\\theta \\in (0,1)$ mit\n",
    "$$\n",
    "|x^k - x^*| \\leq C\\theta^k |x^* - x^0|\n",
    "$$\n",
    "für alle $x^0 \\in B(x^*, \\delta)$.\n",
    "\n",
    ":::"
   ]
  }
 ],
 "metadata": {
  "language_info": {
   "name": "python"
  }
 },
 "nbformat": 4,
 "nbformat_minor": 5
}
