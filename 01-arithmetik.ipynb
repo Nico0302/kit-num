{
 "cells": [
  {
   "cell_type": "markdown",
   "id": "e9650e21",
   "metadata": {},
   "source": [
    "# Arithmetik"
   ]
  },
  {
   "cell_type": "code",
   "execution_count": null,
   "id": "20e6b535",
   "metadata": {},
   "outputs": [],
   "source": [
    "#| echo: false\n",
    "\n",
    "import numpy as np\n",
    "import matplotlib.pyplot as plt\n",
    "import math"
   ]
  },
  {
   "cell_type": "markdown",
   "id": "9584582d",
   "metadata": {},
   "source": [
    "## Gleitkommazahlen\n",
    "\n",
    "Wir betrachten für eine gegebene Basis $B \\geq 2$, einen minimalen Exponent $E^{-}$ und Längen $M$ und $E$ die endliche Menge der normalisierten Gleitpunktzahlen $\\mathrm{FL}$.\n",
    "\n",
    "$$\n",
    "\\mathrm{FL}:=\\{ \\pm B^e \\underbrace{\\sum_{l=1}^M a_l B^{-l}}_{=m} \\; | \\; e=E^{-}+\\sum_{k=0}^{E-1} c_k B^k, \\  a_l, c_k \\in\\{0, \\ldots, B-1\\}, \\ a_1 \\neq 0\\} \\cup\\{0\\}\n",
    "$$"
   ]
  },
  {
   "cell_type": "markdown",
   "id": "843b5c93",
   "metadata": {},
   "source": [
    "## Auslöschung"
   ]
  },
  {
   "cell_type": "code",
   "execution_count": 6,
   "id": "2b90978f",
   "metadata": {},
   "outputs": [
    {
     "data": {
      "text/plain": [
       "(np.float64(6.529424994681785e-09), np.float64(1.4925713791816933e-16))"
      ]
     },
     "execution_count": 6,
     "metadata": {},
     "output_type": "execute_result"
    }
   ],
   "source": [
    "N = 2**10\n",
    "\n",
    "def exp(x):\n",
    "    \"\"\"\n",
    "    Compute the exponential function using Taylor series expansion.\n",
    "    \"\"\"\n",
    "    return np.sum([x**n / math.factorial(n) for n in range(N)], axis=0)\n",
    "\n",
    "x = 10\n",
    "\n",
    "z_bad = exp(-x)\n",
    "z_good = 1 / exp(x)\n",
    "\n",
    "r = np.exp(-x) # reference\n",
    "\n",
    "np.abs(z_bad - r) / r, np.abs(z_good - r) / r"
   ]
  },
  {
   "cell_type": "markdown",
   "id": "8e988b96",
   "metadata": {},
   "source": [
    "**Quadratische Gleichung**\n",
    "\n",
    "Anstatt $x_2=p-\\sqrt{p^2-q}$, verwenden wir\n",
    "\n",
    "$$\n",
    "x_2=p-\\sqrt{p^2-q} \\cdot \\frac{p+\\sqrt{p^2+q}}{p+\\sqrt{p^2+q}} = \\frac{q}{p+\\sqrt{p^2-q}}=\\frac{q}{x_1}\n",
    "$$\n",
    "\n",
    "(Satz von Vieta) um die Auslöschung zwischen $p$ und $\\sqrt{p^2-q}$ zu vermeiden."
   ]
  },
  {
   "cell_type": "code",
   "execution_count": 4,
   "id": "b766f5f1",
   "metadata": {},
   "outputs": [
    {
     "name": "stdout",
     "output_type": "stream",
     "text": [
      "[2.e+10 5.e-09]\n"
     ]
    },
    {
     "data": {
      "text/plain": [
       "(0.0, 5e-09)"
      ]
     },
     "execution_count": 4,
     "metadata": {},
     "output_type": "execute_result"
    }
   ],
   "source": [
    "p = 1e10\n",
    "q = 1e2\n",
    "\n",
    "print(np.roots([1, -2*p, q])) # reference\n",
    "\n",
    "x1 = p + math.sqrt(p**2 - q)\n",
    "\n",
    "x2_bad = p - math.sqrt(p**2 - q)\n",
    "x2_good = q / x1\n",
    "\n",
    "x2_bad, x2_good"
   ]
  }
 ],
 "metadata": {
  "kernelspec": {
   "display_name": ".venv",
   "language": "python",
   "name": "python3"
  },
  "language_info": {
   "codemirror_mode": {
    "name": "ipython",
    "version": 3
   },
   "file_extension": ".py",
   "mimetype": "text/x-python",
   "name": "python",
   "nbconvert_exporter": "python",
   "pygments_lexer": "ipython3",
   "version": "3.13.2"
  }
 },
 "nbformat": 4,
 "nbformat_minor": 5
}
