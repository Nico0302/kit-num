{
 "cells": [
  {
   "cell_type": "markdown",
   "id": "5a6aa408",
   "metadata": {},
   "source": [
    "# Polynom-Interpolation\n",
    "\n",
    "## Lagrange-Darstellung\n",
    "\n",
    "{{< video src=\"https://www.youtube.com/watch?v=bzp_q7NDdd4\" >}}\n",
    "\n",
    "## Newton-Darstellung\n",
    "\n",
    "{{< video src=\"https://www.youtube.com/watch?v=4O5drXe5bOQ\" >}}"
   ]
  }
 ],
 "metadata": {
  "language_info": {
   "name": "python"
  }
 },
 "nbformat": 4,
 "nbformat_minor": 5
}
