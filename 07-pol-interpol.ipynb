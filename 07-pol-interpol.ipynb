{
 "cells": [
  {
   "cell_type": "markdown",
   "id": "5a6aa408",
   "metadata": {},
   "source": [
    "# Polynom-Interpolation\n",
    "\n",
    "## Lagrange-Darstellung\n",
    "\n",
    "Konstruktion des Interpolationspolynoms\n",
    "Zum Lösen der Interpolationsaufgabe muss der Koeffizientenvektor $a = [a₀;a₁; \\ldots ;a_N] \\in \\mathbb{R}^{N+1}$ bestimmt werden, welcher\n",
    "$$a₀+a₁ξ_n + a₂ξ_n^2 + \\ldots + a_Nξ_n^N = f_n$$\n",
    "für $n = 0, \\ldots, N$ genügt. Dies führt auf ein lineares Gleichungssystem $Ta = f$ mit $f = [f₀; \\ldots; f_N] \\in \\mathbb{R}^{N+1}$ und der Vandermonde-Matrix\n",
    "$$T = (ξ_n^k)_{n,k=0,\\ldots,N} = \\begin{pmatrix} 1 & ξ_0 & ξ_0^2 & \\ldots & ξ_0^N \\\\ 1 & ξ_1 & ξ_1^2 & \\ldots & ξ_1^N \\\\ \\vdots & \\vdots & \\vdots & \\ddots & \\vdots \\\\ 1 & ξ_N & ξ_N^2 & \\ldots & ξ_N^N \\end{pmatrix} \\in \\mathbb{R}^{(N+1) \\times (N+1)}.$$\n",
    "Diese Matrix ist zwar regulär (da die $ξ_n$ paarweise verschieden sind), hat aber in der Regel eine sehr schlechte Kondition. Eine andere Möglichkeit ist die Darstellung über die Lagrange Basispolynome $L_k \\in \\mathbb{P}_N$ mit\n",
    "$$L_n(t) = \\prod_{\\substack{k=0 \\\\ k \\neq n}}^N \\frac{t - ξ_k}{ξ_n - ξ_k}.$$\n",
    "Dadruch, dass $t-ξ_k$ für $k \\neq n$ Nullstellen aufweist und $ξ_n - ξ_k$ das Polynom bei $t = ξ_n$ auf $1$ normiert, ergibt sich die Bedingung\n",
    "$$L_n(ξ_k) = \\begin{cases} 1, & k = n, \\\\ 0, & k \\neq n. \\end{cases}$$\n",
    "Damit erhalten wir die Lagrange-Darstellung des Interpolationspolynoms\n",
    "$$P(t) = \\sum_{n=0}^N f_nL_n(t)$$\n",
    "\n",
    "{{< video src=\"https://www.youtube.com/watch?v=bzp_q7NDdd4\" >}}\n",
    "\n",
    "## Newton-Darstellung\n",
    "\n",
    "Wir betrachten Stützstellen $\\xi_1, \\ldots, \\xi_n$ und die zugehörigen Funktionswerte $f(\\xi_1), \\ldots, f(\\xi_n)$. Nach Newton-Schema rechnen wir die Koeffizienten $c_n$ und bilden das Produkt mit dem jeweiligen [Newton-Polynom]{.mark} $\\omega_n(t)$:\n",
    "\n",
    "$$\n",
    "P_N(t) = \\sum_{n=0}^{N} c_n \\cdot \\omega_n(t) \\quad \\text{mit} \\quad \\omega_n(t) = \\prod_{k=0}^{n-1} (t - \\xi_k) \n",
    "$$\n",
    "\n",
    "{{< video src=\"https://www.youtube.com/watch?v=4O5drXe5bOQ\" >}}\n",
    "\n",
    "::: {.callout-tip}\n",
    "\n",
    "### (7.3) Satz\n",
    "\n",
    "Sei $f \\in C^{N+1}[a,b]$ mit $a < b$ und $a \\le t \\le b$. Zu $a \\le \\xi_0 \\le \\xi_1 \\le \\dots \\le \\xi_N \\le b$ definiere\n",
    "$$\n",
    "f_n = \\frac{1}{e_n!} \\left(\\frac{d}{dt}\\right)^{e_n} f(\\xi_n).\n",
    "$$\n",
    "\n",
    "Für den Interpolationsfehler gilt dann\n",
    "$$\n",
    "f(t) - P_N(t) = \\frac{\\omega_{N+1}(t)}{(N+1)!} \\left(\\frac{d}{dt}\\right)^{N+1} f(\\tau_t)\n",
    "$$\n",
    "mit $\\tau_t \\in I := [\\min\\{\\xi_0, t\\}, \\max\\{t, \\xi_N\\}]$.\n",
    "\n",
    ":::"
   ]
  }
 ],
 "metadata": {
  "language_info": {
   "name": "python"
  }
 },
 "nbformat": 4,
 "nbformat_minor": 5
}
