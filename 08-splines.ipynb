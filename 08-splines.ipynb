{
 "cells": [
  {
   "cell_type": "markdown",
   "id": "86d9f212",
   "metadata": {},
   "source": [
    "# Splines\n",
    "\n",
    "**🏁 Ziel:** Finde eine Interpolation für eine Menge von Punkten $y_0, \\dots y_M \\in \\mathbb{R}^2$ \n",
    "\n",
    "**⚠️ Problem:** Polynom-Interpolation gibt nur ein einziges Polynom zurück und ist durch die *Runge-Phänomen* anfällig für große Fehler bei großen Grad.\n",
    "\n",
    "**💡 Idee:** Kombiniere mehrere Polynome zu einem Stückweise definierten Polynom (Spline).\n",
    "\n",
    "{{< video src=\"https://www.youtube.com/watch?v=pBtqaK0PzrA&list=PLDea8VeK4MUTppAXQzHBNz3KiyEd9SQms&index=77\" >}}"
   ]
  }
 ],
 "metadata": {
  "language_info": {
   "name": "python"
  }
 },
 "nbformat": 4,
 "nbformat_minor": 5
}
