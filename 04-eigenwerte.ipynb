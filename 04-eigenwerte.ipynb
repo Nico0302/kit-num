{
 "cells": [
  {
   "cell_type": "code",
   "execution_count": 3,
   "id": "4cefac1d",
   "metadata": {},
   "outputs": [],
   "source": [
    "#| echo: False\n",
    "\n",
    "import numpy as np\n",
    "import fractions\n",
    "import scipy\n",
    "np.set_printoptions(formatter={'all':lambda x: str(fractions.Fraction(x).limit_denominator())})"
   ]
  },
  {
   "cell_type": "markdown",
   "id": "4de05549",
   "metadata": {},
   "source": [
    "# Eigenwertberechnung\n",
    "\n",
    "**🏁 Ziel:** Suche iterativ eine zu $A=A_0$ ähnliche (gleiche Eigenwerte) Matrix $A_k$, die wir mittels der QR-Zerlegung in eine obere Dreiecksmatrix $R$ überführen können:\n",
    "\n",
    "$$\n",
    "A_k \\to R = \\begin{pmatrix} \\lambda_1 & * & \\cdots & * \\\\ & \\lambda_2 & \\ddots & \\vdots \\\\ & & \\ddots & * \\\\ & & & \\lambda_N \\end{pmatrix},\n",
    "Q_k \\to I_N\n",
    "$$\n",
    "\n",
    "Somit lassen sich die Eigenwerte von $A_k$ ($k \\to \\infty$) auf der Diagonalen ablesen (bzw. approximieren).\n",
    "\n",
    "**⚠️ Problem:** Normale QR-Zerlegung mit $A_{k+1} = R_k Q_k$ benötigt $O(N^3)$ Operationen.\n",
    "\n",
    "## Hessenberg-Matrix\n",
    "\n",
    "$$\n",
    "H = \\begin{pmatrix}\n",
    "* & * & * & * & * \\\\\n",
    "* & * & * & * & * \\\\\n",
    "0 & * & * & * & * \\\\\n",
    "0 & 0 & * & * & * \\\\\n",
    "0 & 0 & 0 & * & *\n",
    "\\end{pmatrix}\n",
    "$$\n",
    "\n",
    "Eine Matrix $H \\in \\mathbb{R}^{N \\times N}$ heißt (obere) Hessenberg-Matrix, wenn $H[n+2:N, n] = 0_{N-n-1}$ für $n = 1,...,N-2$ gilt.\n",
    "\n",
    "::: {.callout-tip}\n",
    "\n",
    "### (4.3) Satz\n",
    "\n",
    "Sei $A \\in \\mathbb{R}^{N \\times N}$. Dann existiert eine **orthogonale** Matrix $Q \\in \\mathbb{R}^{N \\times N}$, so dass \n",
    "$$\n",
    "H = QAQ^{\\top}\n",
    "$$ \n",
    "eine *Hessenberg-Matrix* ist.\n",
    "\n",
    "Die Berechnung von $Q$ benötigt $O(N^3)$ Operationen.\n",
    "\n",
    ":::\n",
    "\n",
    "![Berechnung der Hessenberg-Matrix](assets/hessenberg.jpeg)"
   ]
  },
  {
   "cell_type": "code",
   "execution_count": 4,
   "id": "a937285e",
   "metadata": {},
   "outputs": [
    {
     "name": "stdout",
     "output_type": "stream",
     "text": [
      "[[8 -3 0]\n",
      " [-3 4 0]\n",
      " [0 0 5]]\n",
      "[2244241/233640 559439/233640 5]\n",
      "[2244241/233640 559439/233640 5]\n"
     ]
    }
   ],
   "source": [
    "A = np.array([\n",
    "    [8, 12/5, -9/5],\n",
    "    [12/5, 109/25, 12/25],\n",
    "    [-9/5, 12/25, 116/25]\n",
    "])\n",
    "\n",
    "print(H := scipy.linalg.hessenberg(A))\n",
    "\n",
    "print(np.linalg.eig(A).eigenvalues)\n",
    "print(np.linalg.eig(H).eigenvalues)"
   ]
  },
  {
   "cell_type": "markdown",
   "id": "d6d6d7c8",
   "metadata": {},
   "source": [
    "## Inverse Iteration mit Shift\n",
    "\n",
    "Sei $A \\in \\mathbb{R}^{N \\times N}$ **symmetrisch**.\n",
    "\n",
    "0. Wähle $v^0 \\in \\mathbb{R}^N$ mit $|v^0| = 1$. <br />\n",
    "    Setze $k := 0$ und wähle $\\varepsilon > 0$.\n",
    "1. Berechne \n",
    "    $$\n",
    "    \\mu_k = r(A, v^k) = \\frac{v^{\\top} A v}{v^{\\top} v},\n",
    "    $$. <br />\n",
    "    Falls $|Av^k - \\mu_k v^k| < \\varepsilon$: STOP.\n",
    "2. Berechne\n",
    "    \\begin{align*}\n",
    "    w^k &= (A - \\mu_k I_N)^{-1}v^k, \\\\\n",
    "    v^{k+1} &= \\frac{1}{|w^k|}w^k.\n",
    "    \\end{align*}\n",
    "3. Setze $k := k + 1$ und gehe zu *1.*.\n",
    "\n",
    "$r(A, w) \\approx \\lambda$"
   ]
  },
  {
   "cell_type": "markdown",
   "id": "df442f86",
   "metadata": {},
   "source": [
    "## QR-Iteration mit Shift\n",
    "\n",
    "**💡 Idee:** Transformiere $A$ auf ähnliche Hessenbergform und führe die QR-Zerlegung mit Shift in $O(N^2)$ durch.\n",
    "\n",
    "Im Folgenden sei $A \\in \\mathbb{R}^{N \\times N}$ symmetrisch, tridiagonal und irreduzibel ($A$ kann z.B. eine **Hessenberg-Matrix** sein).\n",
    "\n",
    "0. Wähle $\\varepsilon \\geq 0$, setze $A_0 = A$, $k := 0$ und $n=N$.\n",
    "1. Falls $|A_k[n, n-1]| \\leq \\varepsilon$  <br />\n",
    "   setze $n := n - 1$, <br />\n",
    "   falls $n = 1$: STOP\n",
    "2. Wähle $\\mu_k = A[n, n]$.\n",
    "3. Berechne eine QR-Zerlegung\n",
    "   $A_k - \\mu_k I_N = Q_k R_k$.\n",
    "4. Setze <br />\n",
    "   $A_{k+1} = R_k Q_k + \\mu_k I_N$. <br />\n",
    "   Setze $k := k + 1$, gehe zu *1*.\n",
    "\n",
    "\n",
    "Es gilt\n",
    "\\begin{alignat*}{2}\n",
    "A_{k+1} &= R_k Q_k &&+ \\mu_k I_N \\\\\n",
    "&= Q_k^\\top (A_k - \\mu_k I_N) Q_k &&+ \\mu_k I_N \\\\\n",
    "&= Q_k^\\top A_k Q_k\n",
    "\\end{alignat*}"
   ]
  }
 ],
 "metadata": {
  "kernelspec": {
   "display_name": "NUM",
   "language": "python",
   "name": "python3"
  },
  "language_info": {
   "codemirror_mode": {
    "name": "ipython",
    "version": 3
   },
   "file_extension": ".py",
   "mimetype": "text/x-python",
   "name": "python",
   "nbconvert_exporter": "python",
   "pygments_lexer": "ipython3",
   "version": "3.13.5"
  }
 },
 "nbformat": 4,
 "nbformat_minor": 5
}
