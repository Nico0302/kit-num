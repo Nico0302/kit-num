{
 "cells": [
  {
   "cell_type": "code",
   "execution_count": 8,
   "id": "4cefac1d",
   "metadata": {},
   "outputs": [],
   "source": [
    "#| echo: False\n",
    "\n",
    "import numpy as np\n",
    "import fractions\n",
    "import scipy\n",
    "np.set_printoptions(formatter={'all':lambda x: str(fractions.Fraction(x).limit_denominator())})"
   ]
  },
  {
   "cell_type": "markdown",
   "id": "4de05549",
   "metadata": {},
   "source": [
    "## Eigenwertberechnung\n",
    "\n",
    "### Hessenberg-Matrix\n",
    "\n",
    "$$\n",
    "H = \\begin{pmatrix}\n",
    "* & * & * & * & * \\\\\n",
    "* & * & * & * & * \\\\\n",
    "0 & * & * & * & * \\\\\n",
    "0 & 0 & * & * & * \\\\\n",
    "0 & 0 & 0 & * & *\n",
    "\\end{pmatrix}\n",
    "$$\n",
    "\n",
    "Eine Matrix $H \\in \\mathbb{R}^{N \\times N}$ heißt (obere) Hessenberg-Matrix, wenn $H[n+2:N, n] = 0_{N-n-1}$ für $n = 1,...,N-2$ gilt.\n",
    "\n",
    "::: {.callout-tip}\n",
    "\n",
    "#### (4.3) Satz\n",
    "\n",
    "Sei $A \\in \\mathbb{R}^{N \\times N}$. Dann existiert eine **orthogonale** Matrix $Q \\in \\mathbb{R}^{N \\times N}$, so dass \n",
    "$$\n",
    "H = QAQ^{\\top}\n",
    "$$ \n",
    "eine *Hessenberg-Matrix* ist.\n",
    "\n",
    "Die Berechnung von $Q$ benötigt $O(N^3)$ Operationen.\n",
    "\n",
    ":::\n",
    "\n",
    "![Berechnung der Hessenberg-Matrix](assets/hessenberg.jpeg)"
   ]
  },
  {
   "cell_type": "code",
   "execution_count": 11,
   "id": "a937285e",
   "metadata": {},
   "outputs": [
    {
     "name": "stdout",
     "output_type": "stream",
     "text": [
      "[[8 -3 0]\n",
      " [-3 4 0]\n",
      " [0 0 5]]\n"
     ]
    }
   ],
   "source": [
    "A = np.array([\n",
    "    [8, 12/5, -9/5],\n",
    "    [12/5, 109/25, 12/25],\n",
    "    [-9/5, 12/25, 116/25]\n",
    "])\n",
    "\n",
    "print(scipy.linalg.hessenberg(A))"
   ]
  }
 ],
 "metadata": {
  "kernelspec": {
   "display_name": ".venv",
   "language": "python",
   "name": "python3"
  },
  "language_info": {
   "codemirror_mode": {
    "name": "ipython",
    "version": 3
   },
   "file_extension": ".py",
   "mimetype": "text/x-python",
   "name": "python",
   "nbconvert_exporter": "python",
   "pygments_lexer": "ipython3",
   "version": "3.13.2"
  }
 },
 "nbformat": 4,
 "nbformat_minor": 5
}
