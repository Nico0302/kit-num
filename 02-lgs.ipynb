{
 "cells": [
  {
   "cell_type": "markdown",
   "id": "055a7164",
   "metadata": {},
   "source": [
    "# Direkte Lösungsverfahren für lineare Gleichungen"
   ]
  },
  {
   "cell_type": "code",
   "execution_count": 27,
   "id": "19de6a58",
   "metadata": {},
   "outputs": [],
   "source": [
    "#| echo: false\n",
    "\n",
    "from scipy import linalg\n",
    "import numpy as np"
   ]
  },
  {
   "cell_type": "markdown",
   "id": "7261be3e",
   "metadata": {},
   "source": [
    "## Vorwärts-Substitution\n",
    "\n",
    "$$\n",
    "L = \\begin{pmatrix}\n",
    "1      \\\\\n",
    "l_{21} & 1      \\\\\n",
    "l_{31} & l_{32} & 1      \\\\\n",
    "\\vdots & \\vdots & \\vdots & \\ddots \\\\\n",
    "l_{n1} & l_{n2} & l_{n3} & \\dots  & 1 \\\\\n",
    "\\end{pmatrix}\n",
    "$$\n",
    "\n",
    "Die *Vorwärts-Substitution* löst $L\\cdot\\mathbf{y}=\\mathbf{b}$ (normierte untere Dreiecksmatrix), indem wir über die Zeilen iterieren und dabei die Lösungen der vorheringen $\\mathbf{x}_j$ für die Berechung des aktuellen $\\mathbf{x}_i$ verwenden ($\\mathbf{x}_1 = \\mathbf{b}_1$). \\\n",
    "Die Laufzeit liegt somit in $O(n^2)$."
   ]
  },
  {
   "cell_type": "code",
   "execution_count": 28,
   "id": "a2aa38b5",
   "metadata": {},
   "outputs": [],
   "source": [
    "def forward_sub(lower, rhs):\n",
    "    n = lower.shape[0]\n",
    "    solution = np.zeros(n)\n",
    "    for i in range(n):\n",
    "        solution[i] = rhs[i]\n",
    "        for j in range(i):\n",
    "            solution[i] -= lower[i, j] * solution[j]\n",
    "            solution[i] = solution[i] / lower[i, i]\n",
    "    return solution"
   ]
  },
  {
   "cell_type": "code",
   "execution_count": 29,
   "id": "b3465d3b",
   "metadata": {},
   "outputs": [
    {
     "data": {
      "text/plain": [
       "array([1., 0., 0.])"
      ]
     },
     "execution_count": 29,
     "metadata": {},
     "output_type": "execute_result"
    }
   ],
   "source": [
    "forward_sub(np.array([\n",
    "    [1, 0, 0], \n",
    "    [2, 1, 0], \n",
    "    [3, 4, 1]]\n",
    "), np.array([1, 2, 3]))"
   ]
  },
  {
   "cell_type": "markdown",
   "id": "80a3610d",
   "metadata": {},
   "source": [
    "## Rückwärts-Substitution\n",
    "\n",
    "$$\n",
    "R = \\begin{pmatrix}\n",
    "r_{11} & r_{12} & r_{13} & \\dots  & r_{1n} \\\\\n",
    "    & r_{22} & r_{23} & \\dots  & r_{2n} \\\\\n",
    "    &        & r_{33} & \\dots  & r_{3n} \\\\\n",
    "    &        &        & \\ddots & \\vdots \\\\\n",
    "    &        &        &        & r_{nn}\n",
    "\\end{pmatrix}\n",
    "$$\n",
    "\n",
    "Die *Rückwärts-Substitution* löst $R \\cdot \\mathbf{x}=\\mathbf{y}$, indem wir von der letzten Zeile aus das verfahren der Vorwärts-Substitution anwenden. \\\n",
    "Die Laufzeit liegt somit ebenfalls in $O(n^2)$."
   ]
  },
  {
   "cell_type": "code",
   "execution_count": 30,
   "id": "194d3599",
   "metadata": {},
   "outputs": [],
   "source": [
    "def backward_sub(upper, rhs):\n",
    "    n = upper.shape[0]\n",
    "    solution = np.zeros(n)\n",
    "    for i in range(n - 1, -1, -1):\n",
    "        tmp = rhs[i]\n",
    "        for j in range(i + 1, n):\n",
    "            tmp -= upper[i, j] * solution[j]\n",
    "            solution[i] = tmp / upper[i, i]\n",
    "    return solution"
   ]
  },
  {
   "cell_type": "code",
   "execution_count": 31,
   "id": "54396cb9",
   "metadata": {},
   "outputs": [
    {
     "data": {
      "text/plain": [
       "array([0.5, 0. , 0. ])"
      ]
     },
     "execution_count": 31,
     "metadata": {},
     "output_type": "execute_result"
    }
   ],
   "source": [
    "backward_sub(np.array([\n",
    "    [2, 2, 3], \n",
    "    [0, 1, 4], \n",
    "    [0, 0, 1]]\n",
    "), np.array([1, 0, 0]))"
   ]
  },
  {
   "cell_type": "markdown",
   "id": "55fc3bb4",
   "metadata": {},
   "source": [
    "{{< pagebreak >}}\n",
    "\n",
    "## LR-Zerlegung\n",
    "\n",
    "*(en. LU-Decomposition)*\n",
    "\n",
    "{{< video https://www.youtube.com/watch?v=BFYFkn-eOQk >}}\n",
    "\n",
    "::: {.callout-warning}\n",
    "\n",
    "Die $1$-en auf der Diagonalen der $L$-Matrix bleiben beim Zeilentauschen **unverändert**\n",
    "\n",
    ":::"
   ]
  },
  {
   "cell_type": "markdown",
   "id": "0a7c9557",
   "metadata": {},
   "source": [
    "Die $LR$-Zerlegung lässt sich mittels des Gauß-Algorithmus bestimmen, indem wir $A$ auf eine untere Dreiecksmatrix $R$ gaußen und uns die Operationen in $L$ \"merken\".\n",
    "Sie ist eindeutig und benötigt $O(n^3)$ Operationen.\n",
    "\n",
    "Darauf lässt sich die Lösung mittels Vorwärtssubsitution von $L\\cdot\\mathbf{y}=\\mathbf{b}$ (oder $L\\cdot\\mathbf{y}=P \\cdot \\mathbf{b}$ mit $P$ als Permutationsmatrix) und Rückwärtssubstitution von $R\\cdot\\mathbf{x}=\\mathbf{y}$ aufbauen.\n",
    "\n",
    "\n",
    "Die Berechnung ist **nicht** stabil.\n",
    "\n",
    "Hinreichende Bedingungen für die Exsistenz einer $LR$-Zerlegung für eine **quadratische** Matrix $A$:\n",
    "\n",
    "1. strikt diagonal-dominant, daher das Diagonalelement ist größer als die Summe aller anderen Elemente in der Zeile, bzw.\n",
    "\n",
    "$$\n",
    "|A[n, n]|>\\sum_{\\substack{k=1 \\\\ k \\neq n}}^N|A[n, k]| \\quad \\text { für } n=1, \\ldots, N\n",
    "$$\n",
    "\n",
    "2. positiv definit, daher **alle Eigenwerte $> 0$**, bzw.\n",
    "\n",
    "$$\n",
    "x^{\\top} A x>0 \\quad \\text { für alle } x \\in \\mathbb{R}^N, x \\neq 0 .\n",
    "$$\n",
    "\n",
    "::: {.callout-note}\n",
    "\n",
    "![Hauptminorenkriterium für positiv definite Matrizen](assets/pos_def.jpeg)\n",
    "\n",
    ":::\n",
    "\n",
    "Falls diese Bedingungen nicht gegeben sind, können wir mittels **Zeilenvertauschung** (Permutationsmatrix $P$) eine LR-zerlegbare Matrix $PA$ in $O(n^3)$ erzeugen.\n"
   ]
  },
  {
   "cell_type": "code",
   "execution_count": 32,
   "id": "b7dca541",
   "metadata": {},
   "outputs": [],
   "source": [
    "def lu_decomposition(matrix):\n",
    "    n = matrix.shape[0]\n",
    "    lower = np.zeros(shape=matrix.shape)\n",
    "    upper = np.zeros(shape=matrix.shape)\n",
    "    for j in range(n):\n",
    "        lower[j][j] = 1.0\n",
    "        for i in range(j + 1):\n",
    "            first_sum = sum(upper[k][j] * lower[i][k] for k in range(i))\n",
    "            upper[i][j] = matrix[i][j] - first_sum\n",
    "        for i in range(j, n):\n",
    "            second_sum = sum(upper[k][j] * lower[i][k] for k in range(j))\n",
    "            lower[i][j] = (matrix[i][j] - second_sum) / upper[j][j]\n",
    "    return lower, upper\n",
    "\n",
    "def solve_with_lu(matrix, rhs):\n",
    "    lower, upper = lu_decomposition(matrix)\n",
    "    y = forward_sub(lower, rhs)\n",
    "    return backward_sub(upper, y)"
   ]
  },
  {
   "cell_type": "code",
   "execution_count": 33,
   "id": "33940135",
   "metadata": {},
   "outputs": [
    {
     "name": "stdout",
     "output_type": "stream",
     "text": [
      "solution [0.5 0. ]\n",
      "test  [0.  1.5]\n"
     ]
    }
   ],
   "source": [
    "matrix = np.array([[2.0, 1.0],\n",
    "[1.0, 4.0]])\n",
    "rhs = np.array([1.0, 2.0])\n",
    "solution = solve_with_lu(matrix, rhs)\n",
    "print(\"solution\", solution)\n",
    "test = rhs - np.dot(matrix, solution)\n",
    "print(\"test \",test)"
   ]
  },
  {
   "cell_type": "markdown",
   "id": "c52844b8",
   "metadata": {},
   "source": [
    "## Cholesky-Zerlegung {#sec-cholesky}\n",
    "\n",
    "::: {.callout-tip}\n",
    "\n",
    "## (2.7) Satz\n",
    "\n",
    "Sei $A \\in \\mathbb{R}^{N \\times N}$ **symmetrisch** und **positiv definit**. Dann existiert genau eine Cholesky-Zerlegung $A=L L^{\\top}$ mit einer regulären unteren Dreiecksmatrix $L$.\n",
    "\n",
    ":::\n",
    "\n",
    "Es handelt sich somit um eine Spezialisierung der LR-Zerlegung für symmetrisch, positiv definite Matrizen.\n",
    "\n",
    "\\begin{align}\n",
    "A &=\n",
    "\\begin{pmatrix}\n",
    "   a_{11} & a_{21} & a_{31}\\\\\n",
    "   a_{21} & a_{22} & a_{32}\\\\\n",
    "   a_{31} & a_{32} & a_{33}\\\\\n",
    "\\end{pmatrix}\\\\\n",
    "& = \n",
    "\\begin{pmatrix}\n",
    "   l_{11} & 0 & 0 \\\\\n",
    "   l_{21} & l_{22} & 0 \\\\\n",
    "   l_{31} & l_{32} & l_{33}\\\\\n",
    "\\end{pmatrix}\n",
    "\\begin{pmatrix}\n",
    "   l_{11} & l_{21} & l_{31} \\\\\n",
    "   0 & l_{22} & l_{32} \\\\\n",
    "   0 & 0 & l_{33}\n",
    "\\end{pmatrix} \\equiv L L^T \\\\\n",
    "&= \\begin{pmatrix}\n",
    "   l_{11}^2     & l_{21}l_{11} & l_{31}l_{11} \\\\\n",
    "   l_{21}l_{11} & l_{21}^2 + l_{22}^2& l_{31}l_{21}+l_{32}l_{22} \\\\\n",
    "   l_{31}l_{11} & l_{31}l_{21}+l_{32}l_{22} & l_{31}^2 + l_{32}^2+l_{33}^2\n",
    "\\end{pmatrix}\\end{align}\n",
    "\n",
    "### Berechnung\n",
    "\n",
    "Diagonalelemente: \n",
    "\n",
    "$$l_{kk} = \\sqrt{a_{kk} - \\sum_{{\\color{teal}j}=1}^{k-1} l_{k{\\color{teal}j}}^2}$$\n",
    "\n",
    "Rest: \n",
    "\n",
    "$$l_{{\\color{orange}i}k} = \\frac{1}{l_{kk}} \\left ( a_{ik} - \\sum_{{\\color{teal}j}=1}^{k-1} l_{{\\color{orange}i}{\\color{teal}j}}l_{k{\\color{teal}j}} \\right )$$"
   ]
  },
  {
   "cell_type": "code",
   "execution_count": 34,
   "id": "f05eb606",
   "metadata": {},
   "outputs": [],
   "source": [
    "def cholesky_decomposition(A):\n",
    "    n = matrix.shape[0]\n",
    "    lower = np.zeros(matrix.shape)\n",
    "    lower[0, 0] = np.sqrt(matrix[0, 0])\n",
    "    for n in range(1, n):\n",
    "        y = forward_sub(lower[:n, :n], matrix[n, :n]) # linalg.solve_triangular(lower[:n, :n], matrix[n, :n], lower=True)\n",
    "        lower[n, :n] = y\n",
    "        lower[n, n] = np.sqrt(matrix[n, n] - np.dot(y, y))\n",
    "    return lower\n",
    "\n",
    "def solve_with_cholesky(matrix, rhs):\n",
    "    lower = cholesky_decomposition(matrix)\n",
    "    y = forward_sub(lower, rhs)\n",
    "    return backward_sub(lower.transpose(), y)"
   ]
  },
  {
   "cell_type": "code",
   "execution_count": 35,
   "id": "b1f95a62",
   "metadata": {},
   "outputs": [
    {
     "name": "stdout",
     "output_type": "stream",
     "text": [
      "solution [0.70710678 0.        ]\n",
      "test  [-0.41421356  1.29289322]\n"
     ]
    }
   ],
   "source": [
    "matrix = np.array([[2.0, 1.0],\n",
    "[1.0, 4.0]])\n",
    "rhs = np.array([1.0, 2.0])\n",
    "rhs = np.array([1.0, 2.0])\n",
    "solution = solve_with_cholesky(matrix, rhs)\n",
    "print(\"solution\",solution)\n",
    "test = rhs - np.dot(matrix, solution)\n",
    "print(\"test \",test)"
   ]
  },
  {
   "cell_type": "markdown",
   "id": "75ec77d6",
   "metadata": {},
   "source": [
    "- Die Cholesky-Zerlegung ist stabil: Es gilt $\\kappa_2(L)^2=\\kappa(A)$\n",
    "- Die Berechnung der Cholesky-Zerlegung benötigt nur halbsoviele Operationen wie die Berechnung einer LR-Zerlegung.\n",
    "- Matrizen mit einer geeigneten Hüllenstruktur (viele Nullelemente wie bei der Bandmatrix) können effizienter gelöst werden (Bandmatrix in $O(NM^2)$)\n",
    "\n",
    "![Schematische Darstellung einer Bandmatrix](assets/bandmatrix.png){width=200}\n",
    "\n",
    "{{< pagebreak >}}"
   ]
  },
  {
   "cell_type": "markdown",
   "id": "e1f3f55e",
   "metadata": {},
   "source": [
    "## QR-Zerlegung {#sec-qr}\n",
    "\n",
    "::: {.callout-tip}\n",
    "\n",
    "## (2.14) Satz (QR-Zerlegung)\n",
    "\n",
    "Zu $A \\in \\mathbb{R}^{M \\times N}$ existiert eine $Q R$-Zerlegung $A=Q R$ in eine orthogonale Matrix $Q \\in \\mathbb{R}^{M \\times M}$ mit $Q^{\\top} Q=I_M$ und eine obere Dreiecksmatrix $R \\in \\mathbb{R}^{M \\times N}$ mit $R[m, n]=0$ für $m>n$.\n",
    "\n",
    ":::\n",
    "\n",
    "- Das LGS $Ax = b$ kann durch die Berechnung $y = Q^\\top b$ und darauf mit Rücksubstitution $Rx = y$ gelöst werden.\n",
    "- Asymptotischer Aufwand in $O(N^3)$\n",
    "\n",
    "Rotationen und Drehungen sind orthogonale Matrizen $Q \\in \\mathbb{R}^{N \\times N}$ mit\n",
    "\n",
    "- $Q Q^{\\top}=I_N, \\ Q^{\\top} Q=I_N$, so dass $Q^{-1}=Q^{\\top}$,\n",
    "- $|Q v|_2=|v|_2$ und $(Q v)^{\\top}(Q w)=v^{\\top} w$ Längen und Winkel erhaltend,\n",
    "- $\\kappa_2(Q)=1$.\n",
    "\n",
    "### Householder Transformationen\n",
    "\n",
    "Wir erhalten $N$ orthogonale Vektoren für $A$, indem wir den ersten Spaltenvektor $v_1$ mittels einer Householder Transformation (Spiegelung) $Q_1$ auf die $x$-Achse ($e_1$) abbilden und dies sukzessiv für die nächsten Spaltenvektoren $v_i$ aus $Q_1 \\cdot \\dots \\cdot Q_{i-1} \\cdot A$ wiederholen (dabei vernachlässigen wir die ersten $i$ Zeilen, da wir nur einen Untervektorraum in $\\mathbb{R}^{N-i}$ betrachten).\n",
    "\n",
    "![QR-Zerlegung mittels Householder Transformationen berechnen](assets/qr_house.jpeg)\n",
    "\n",
    "### Givens-Rotation\n",
    "\n",
    "Alternativ können wir Givens-Rotationen verwenden, um die Matrix $A$ in eine obere Dreiecksmatrix zu überführen. Eine Givens-Rotation ist eine orthogonale Matrix $Q \\in \\mathbb{R}^{N \\times N}$, die die $m$-te und $n$-te Zeile von $A$ rotiert, um die Elemente unterhalb der Hauptdiagonalen zu eliminieren.\n",
    "\n",
    "![QR-Zerlegung mittels Givens-Rotation](assets/qr_givens.jpeg)\n",
    "\n",
    "Besonders bei dünnbesetzten Matrizen (*sparse*) ist die Givens-Rotation effizient."
   ]
  },
  {
   "cell_type": "code",
   "execution_count": null,
   "id": "3111ee59",
   "metadata": {},
   "outputs": [],
   "source": []
  }
 ],
 "metadata": {
  "kernelspec": {
   "display_name": "NUM",
   "language": "python",
   "name": "python3"
  },
  "language_info": {
   "codemirror_mode": {
    "name": "ipython",
    "version": 3
   },
   "file_extension": ".py",
   "mimetype": "text/x-python",
   "name": "python",
   "nbconvert_exporter": "python",
   "pygments_lexer": "ipython3",
   "version": "3.13.5"
  }
 },
 "nbformat": 4,
 "nbformat_minor": 5
}
