{
 "cells": [
  {
   "cell_type": "markdown",
   "id": "055a7164",
   "metadata": {},
   "source": [
    "# Direkte Lösungsverfahren für lineare Gleichungen"
   ]
  },
  {
   "cell_type": "code",
   "execution_count": 6,
   "id": "19de6a58",
   "metadata": {},
   "outputs": [],
   "source": [
    "#| echo: false\n",
    "\n",
    "from scipy import linalg\n",
    "import numpy as np"
   ]
  },
  {
   "cell_type": "markdown",
   "id": "55fc3bb4",
   "metadata": {},
   "source": [
    "## LR-Zerlegung\n",
    "\n",
    "*(en. LU-Decomposition)*\n",
    "\n",
    "{{< video https://www.youtube.com/watch?v=BFYFkn-eOQk >}}"
   ]
  },
  {
   "cell_type": "code",
   "execution_count": 12,
   "id": "194d3599",
   "metadata": {},
   "outputs": [],
   "source": [
    "#| label: fig-lu-decomposition\n",
    "#| fig-cap: \"Berechnung einer LR-Zerlegung, Vorwärts- und Rückwärtssubstitution.\"\n",
    "#| eval: false\n",
    "#| output: false\n",
    "\n",
    "def lu_decomposition(matrix):\n",
    "    n = matrix.shape[0]\n",
    "    lower = np.zeros(shape=matrix.shape)\n",
    "    upper = np.zeros(shape=matrix.shape)\n",
    "    for j in range(n):\n",
    "        lower[j][j] = 1.0\n",
    "        for i in range(j + 1):\n",
    "            first_sum = sum(upper[k][j] * lower[i][k] for k in range(i))\n",
    "            upper[i][j] = matrix[i][j] - first_sum\n",
    "        for i in range(j, n):\n",
    "            second_sum = sum(upper[k][j] * lower[i][k] for k in range(j))\n",
    "            lower[i][j] = (matrix[i][j] - second_sum) / upper[j][j]\n",
    "    return lower, upper\n",
    "\n",
    "def forward_sub(lower, rhs):\n",
    "    n = lower.shape[0]\n",
    "    solution = np.zeros(n)\n",
    "    for i in range(n):\n",
    "        solution[i] = rhs[i]\n",
    "        for j in range(i):\n",
    "            solution[i] = solution[i] - (lower[i, j] * solution[j])\n",
    "            solution[i] = solution[i] / lower[i, i]\n",
    "    return solution\n",
    "\n",
    "def backward_sub(upper, rhs):\n",
    "    n = upper.shape[0]\n",
    "    solution = np.zeros(n)\n",
    "    for i in range(n - 1, -1, -1):\n",
    "        tmp = rhs[i]\n",
    "        for j in range(i + 1, n):\n",
    "            tmp -= upper[i, j] * solution[j]\n",
    "            solution[i] = tmp / upper[i, i]\n",
    "    return solution\n",
    "\n",
    "def solve_with_lu(matrix, rhs):\n",
    "    lower, upper = lu_decomposition(matrix)\n",
    "    y = forward_sub(lower, rhs)\n",
    "    return backward_sub(upper, y)"
   ]
  },
  {
   "cell_type": "code",
   "execution_count": 8,
   "id": "33940135",
   "metadata": {},
   "outputs": [
    {
     "name": "stdout",
     "output_type": "stream",
     "text": [
      "solution [0.5 0. ]\n",
      "test  [0.  1.5]\n"
     ]
    }
   ],
   "source": [
    "matrix = np.array([[2.0, 1.0],\n",
    "[1.0, 4.0]])\n",
    "rhs = np.array([1.0, 2.0])\n",
    "solution = solve_with_lu(matrix, rhs)\n",
    "print(\"solution\",solution)\n",
    "test = rhs - np.dot(matrix,solution)\n",
    "print(\"test \",test)"
   ]
  }
 ],
 "metadata": {
  "kernelspec": {
   "display_name": ".venv",
   "language": "python",
   "name": "python3"
  },
  "language_info": {
   "codemirror_mode": {
    "name": "ipython",
    "version": 3
   },
   "file_extension": ".py",
   "mimetype": "text/x-python",
   "name": "python",
   "nbconvert_exporter": "python",
   "pygments_lexer": "ipython3",
   "version": "3.13.2"
  }
 },
 "nbformat": 4,
 "nbformat_minor": 5
}
